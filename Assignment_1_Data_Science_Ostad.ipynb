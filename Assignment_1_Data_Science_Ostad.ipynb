{
  "nbformat": 4,
  "nbformat_minor": 0,
  "metadata": {
    "colab": {
      "provenance": []
    },
    "kernelspec": {
      "display_name": "Python 3",
      "name": "python3"
    },
    "language_info": {
      "name": "python"
    }
  },
  "cells": [
    {
      "cell_type": "markdown",
      "metadata": {
        "id": "fVW3WTQkejpV"
      },
      "source": [
        "**Machine Learning Model for Accuracy Prediction**"
      ]
    },
    {
      "cell_type": "markdown",
      "metadata": {
        "id": "XeL9uf3beuZ3"
      },
      "source": [
        "**STEP 1: UPLOADING THE CSV FILE**"
      ]
    },
    {
      "cell_type": "code",
      "metadata": {
        "colab": {
          "resources": {
            "http://localhost:8080/nbextensions/google.colab/files.js": {
              "data": "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",
              "headers": [
                [
                  "content-type",
                  "application/javascript"
                ]
              ],
              "ok": true,
              "status": 200,
              "status_text": ""
            }
          },
          "base_uri": "https://localhost:8080/",
          "height": 111
        },
        "id": "z3Yb10q9eb8h",
        "outputId": "32ae7d6a-9d4b-4168-c77c-9cc251d3d7ca"
      },
      "source": [
        "from google.colab import files\n",
        "files.upload()"
      ],
      "execution_count": null,
      "outputs": [
        {
          "output_type": "display_data",
          "data": {
            "text/html": [
              "\n",
              "     <input type=\"file\" id=\"files-a09d8dfb-adf3-478f-9a80-8baac253b49b\" name=\"files[]\" multiple disabled\n",
              "        style=\"border:none\" />\n",
              "     <output id=\"result-a09d8dfb-adf3-478f-9a80-8baac253b49b\">\n",
              "      Upload widget is only available when the cell has been executed in the\n",
              "      current browser session. Please rerun this cell to enable.\n",
              "      </output>\n",
              "      <script src=\"/nbextensions/google.colab/files.js\"></script> "
            ],
            "text/plain": [
              "<IPython.core.display.HTML object>"
            ]
          },
          "metadata": {
            "tags": []
          }
        },
        {
          "output_type": "stream",
          "text": [
            "Saving Social_Network_Ads (1).csv to Social_Network_Ads (1).csv\n"
          ],
          "name": "stdout"
        },
        {
          "output_type": "execute_result",
          "data": {
            "text/plain": [
              "{'Social_Network_Ads (1).csv': b'User ID,Gender,Age,EstimatedSalary,Purchased\\r\\n15624510,Male,19,19000,0\\r\\n15810944,Male,35,20000,0\\r\\n15668575,Female,26,43000,0\\r\\n15603246,Female,27,57000,0\\r\\n15804002,Male,19,76000,0\\r\\n15728773,Male,27,58000,0\\r\\n15598044,Female,27,84000,0\\r\\n15694829,Female,32,150000,1\\r\\n15600575,Male,25,33000,0\\r\\n15727311,Female,35,65000,0\\r\\n15570769,Female,26,80000,0\\r\\n15606274,Female,26,52000,0\\r\\n15746139,Male,20,86000,0\\r\\n15704987,Male,32,18000,0\\r\\n15628972,Male,18,82000,0\\r\\n15697686,Male,29,80000,0\\r\\n15733883,Male,47,25000,1\\r\\n15617482,Male,45,26000,1\\r\\n15704583,Male,46,28000,1\\r\\n15621083,Female,48,29000,1\\r\\n15649487,Male,45,22000,1\\r\\n15736760,Female,47,49000,1\\r\\n15714658,Male,48,41000,1\\r\\n15599081,Female,45,22000,1\\r\\n15705113,Male,46,23000,1\\r\\n15631159,Male,47,20000,1\\r\\n15792818,Male,49,28000,1\\r\\n15633531,Female,47,30000,1\\r\\n15744529,Male,29,43000,0\\r\\n15669656,Male,31,18000,0\\r\\n15581198,Male,31,74000,0\\r\\n15729054,Female,27,137000,1\\r\\n15573452,Female,21,16000,0\\r\\n15776733,Female,28,44000,0\\r\\n15724858,Male,27,90000,0\\r\\n15713144,Male,35,27000,0\\r\\n15690188,Female,33,28000,0\\r\\n15689425,Male,30,49000,0\\r\\n15671766,Female,26,72000,0\\r\\n15782806,Female,27,31000,0\\r\\n15764419,Female,27,17000,0\\r\\n15591915,Female,33,51000,0\\r\\n15772798,Male,35,108000,0\\r\\n15792008,Male,30,15000,0\\r\\n15715541,Female,28,84000,0\\r\\n15639277,Male,23,20000,0\\r\\n15798850,Male,25,79000,0\\r\\n15776348,Female,27,54000,0\\r\\n15727696,Male,30,135000,1\\r\\n15793813,Female,31,89000,0\\r\\n15694395,Female,24,32000,0\\r\\n15764195,Female,18,44000,0\\r\\n15744919,Female,29,83000,0\\r\\n15671655,Female,35,23000,0\\r\\n15654901,Female,27,58000,0\\r\\n15649136,Female,24,55000,0\\r\\n15775562,Female,23,48000,0\\r\\n15807481,Male,28,79000,0\\r\\n15642885,Male,22,18000,0\\r\\n15789109,Female,32,117000,0\\r\\n15814004,Male,27,20000,0\\r\\n15673619,Male,25,87000,0\\r\\n15595135,Female,23,66000,0\\r\\n15583681,Male,32,120000,1\\r\\n15605000,Female,59,83000,0\\r\\n15718071,Male,24,58000,0\\r\\n15679760,Male,24,19000,0\\r\\n15654574,Female,23,82000,0\\r\\n15577178,Female,22,63000,0\\r\\n15595324,Female,31,68000,0\\r\\n15756932,Male,25,80000,0\\r\\n15726358,Female,24,27000,0\\r\\n15595228,Female,20,23000,0\\r\\n15782530,Female,33,113000,0\\r\\n15592877,Male,32,18000,0\\r\\n15651983,Male,34,112000,1\\r\\n15746737,Male,18,52000,0\\r\\n15774179,Female,22,27000,0\\r\\n15667265,Female,28,87000,0\\r\\n15655123,Female,26,17000,0\\r\\n15595917,Male,30,80000,0\\r\\n15668385,Male,39,42000,0\\r\\n15709476,Male,20,49000,0\\r\\n15711218,Male,35,88000,0\\r\\n15798659,Female,30,62000,0\\r\\n15663939,Female,31,118000,1\\r\\n15694946,Male,24,55000,0\\r\\n15631912,Female,28,85000,0\\r\\n15768816,Male,26,81000,0\\r\\n15682268,Male,35,50000,0\\r\\n15684801,Male,22,81000,0\\r\\n15636428,Female,30,116000,0\\r\\n15809823,Male,26,15000,0\\r\\n15699284,Female,29,28000,0\\r\\n15786993,Female,29,83000,0\\r\\n15709441,Female,35,44000,0\\r\\n15710257,Female,35,25000,0\\r\\n15582492,Male,28,123000,1\\r\\n15575694,Male,35,73000,0\\r\\n15756820,Female,28,37000,0\\r\\n15766289,Male,27,88000,0\\r\\n15593014,Male,28,59000,0\\r\\n15584545,Female,32,86000,0\\r\\n15675949,Female,33,149000,1\\r\\n15672091,Female,19,21000,0\\r\\n15801658,Male,21,72000,0\\r\\n15706185,Female,26,35000,0\\r\\n15789863,Male,27,89000,0\\r\\n15720943,Male,26,86000,0\\r\\n15697997,Female,38,80000,0\\r\\n15665416,Female,39,71000,0\\r\\n15660200,Female,37,71000,0\\r\\n15619653,Male,38,61000,0\\r\\n15773447,Male,37,55000,0\\r\\n15739160,Male,42,80000,0\\r\\n15689237,Male,40,57000,0\\r\\n15679297,Male,35,75000,0\\r\\n15591433,Male,36,52000,0\\r\\n15642725,Male,40,59000,0\\r\\n15701962,Male,41,59000,0\\r\\n15811613,Female,36,75000,0\\r\\n15741049,Male,37,72000,0\\r\\n15724423,Female,40,75000,0\\r\\n15574305,Male,35,53000,0\\r\\n15678168,Female,41,51000,0\\r\\n15697020,Female,39,61000,0\\r\\n15610801,Male,42,65000,0\\r\\n15745232,Male,26,32000,0\\r\\n15722758,Male,30,17000,0\\r\\n15792102,Female,26,84000,0\\r\\n15675185,Male,31,58000,0\\r\\n15801247,Male,33,31000,0\\r\\n15725660,Male,30,87000,0\\r\\n15638963,Female,21,68000,0\\r\\n15800061,Female,28,55000,0\\r\\n15578006,Male,23,63000,0\\r\\n15668504,Female,20,82000,0\\r\\n15687491,Male,30,107000,1\\r\\n15610403,Female,28,59000,0\\r\\n15741094,Male,19,25000,0\\r\\n15807909,Male,19,85000,0\\r\\n15666141,Female,18,68000,0\\r\\n15617134,Male,35,59000,0\\r\\n15783029,Male,30,89000,0\\r\\n15622833,Female,34,25000,0\\r\\n15746422,Female,24,89000,0\\r\\n15750839,Female,27,96000,1\\r\\n15749130,Female,41,30000,0\\r\\n15779862,Male,29,61000,0\\r\\n15767871,Male,20,74000,0\\r\\n15679651,Female,26,15000,0\\r\\n15576219,Male,41,45000,0\\r\\n15699247,Male,31,76000,0\\r\\n15619087,Female,36,50000,0\\r\\n15605327,Male,40,47000,0\\r\\n15610140,Female,31,15000,0\\r\\n15791174,Male,46,59000,0\\r\\n15602373,Male,29,75000,0\\r\\n15762605,Male,26,30000,0\\r\\n15598840,Female,32,135000,1\\r\\n15744279,Male,32,100000,1\\r\\n15670619,Male,25,90000,0\\r\\n15599533,Female,37,33000,0\\r\\n15757837,Male,35,38000,0\\r\\n15697574,Female,33,69000,0\\r\\n15578738,Female,18,86000,0\\r\\n15762228,Female,22,55000,0\\r\\n15614827,Female,35,71000,0\\r\\n15789815,Male,29,148000,1\\r\\n15579781,Female,29,47000,0\\r\\n15587013,Male,21,88000,0\\r\\n15570932,Male,34,115000,0\\r\\n15794661,Female,26,118000,0\\r\\n15581654,Female,34,43000,0\\r\\n15644296,Female,34,72000,0\\r\\n15614420,Female,23,28000,0\\r\\n15609653,Female,35,47000,0\\r\\n15594577,Male,25,22000,0\\r\\n15584114,Male,24,23000,0\\r\\n15673367,Female,31,34000,0\\r\\n15685576,Male,26,16000,0\\r\\n15774727,Female,31,71000,0\\r\\n15694288,Female,32,117000,1\\r\\n15603319,Male,33,43000,0\\r\\n15759066,Female,33,60000,0\\r\\n15814816,Male,31,66000,0\\r\\n15724402,Female,20,82000,0\\r\\n15571059,Female,33,41000,0\\r\\n15674206,Male,35,72000,0\\r\\n15715160,Male,28,32000,0\\r\\n15730448,Male,24,84000,0\\r\\n15662067,Female,19,26000,0\\r\\n15779581,Male,29,43000,0\\r\\n15662901,Male,19,70000,0\\r\\n15689751,Male,28,89000,0\\r\\n15667742,Male,34,43000,0\\r\\n15738448,Female,30,79000,0\\r\\n15680243,Female,20,36000,0\\r\\n15745083,Male,26,80000,0\\r\\n15708228,Male,35,22000,0\\r\\n15628523,Male,35,39000,0\\r\\n15708196,Male,49,74000,0\\r\\n15735549,Female,39,134000,1\\r\\n15809347,Female,41,71000,0\\r\\n15660866,Female,58,101000,1\\r\\n15766609,Female,47,47000,0\\r\\n15654230,Female,55,130000,1\\r\\n15794566,Female,52,114000,0\\r\\n15800890,Female,40,142000,1\\r\\n15697424,Female,46,22000,0\\r\\n15724536,Female,48,96000,1\\r\\n15735878,Male,52,150000,1\\r\\n15707596,Female,59,42000,0\\r\\n15657163,Male,35,58000,0\\r\\n15622478,Male,47,43000,0\\r\\n15779529,Female,60,108000,1\\r\\n15636023,Male,49,65000,0\\r\\n15582066,Male,40,78000,0\\r\\n15666675,Female,46,96000,0\\r\\n15732987,Male,59,143000,1\\r\\n15789432,Female,41,80000,0\\r\\n15663161,Male,35,91000,1\\r\\n15694879,Male,37,144000,1\\r\\n15593715,Male,60,102000,1\\r\\n15575002,Female,35,60000,0\\r\\n15622171,Male,37,53000,0\\r\\n15795224,Female,36,126000,1\\r\\n15685346,Male,56,133000,1\\r\\n15691808,Female,40,72000,0\\r\\n15721007,Female,42,80000,1\\r\\n15794253,Female,35,147000,1\\r\\n15694453,Male,39,42000,0\\r\\n15813113,Male,40,107000,1\\r\\n15614187,Male,49,86000,1\\r\\n15619407,Female,38,112000,0\\r\\n15646227,Male,46,79000,1\\r\\n15660541,Male,40,57000,0\\r\\n15753874,Female,37,80000,0\\r\\n15617877,Female,46,82000,0\\r\\n15772073,Female,53,143000,1\\r\\n15701537,Male,42,149000,1\\r\\n15736228,Male,38,59000,0\\r\\n15780572,Female,50,88000,1\\r\\n15769596,Female,56,104000,1\\r\\n15586996,Female,41,72000,0\\r\\n15722061,Female,51,146000,1\\r\\n15638003,Female,35,50000,0\\r\\n15775590,Female,57,122000,1\\r\\n15730688,Male,41,52000,0\\r\\n15753102,Female,35,97000,1\\r\\n15810075,Female,44,39000,0\\r\\n15723373,Male,37,52000,0\\r\\n15795298,Female,48,134000,1\\r\\n15584320,Female,37,146000,1\\r\\n15724161,Female,50,44000,0\\r\\n15750056,Female,52,90000,1\\r\\n15609637,Female,41,72000,0\\r\\n15794493,Male,40,57000,0\\r\\n15569641,Female,58,95000,1\\r\\n15815236,Female,45,131000,1\\r\\n15811177,Female,35,77000,0\\r\\n15680587,Male,36,144000,1\\r\\n15672821,Female,55,125000,1\\r\\n15767681,Female,35,72000,0\\r\\n15600379,Male,48,90000,1\\r\\n15801336,Female,42,108000,1\\r\\n15721592,Male,40,75000,0\\r\\n15581282,Male,37,74000,0\\r\\n15746203,Female,47,144000,1\\r\\n15583137,Male,40,61000,0\\r\\n15680752,Female,43,133000,0\\r\\n15688172,Female,59,76000,1\\r\\n15791373,Male,60,42000,1\\r\\n15589449,Male,39,106000,1\\r\\n15692819,Female,57,26000,1\\r\\n15727467,Male,57,74000,1\\r\\n15734312,Male,38,71000,0\\r\\n15764604,Male,49,88000,1\\r\\n15613014,Female,52,38000,1\\r\\n15759684,Female,50,36000,1\\r\\n15609669,Female,59,88000,1\\r\\n15685536,Male,35,61000,0\\r\\n15750447,Male,37,70000,1\\r\\n15663249,Female,52,21000,1\\r\\n15638646,Male,48,141000,0\\r\\n15734161,Female,37,93000,1\\r\\n15631070,Female,37,62000,0\\r\\n15761950,Female,48,138000,1\\r\\n15649668,Male,41,79000,0\\r\\n15713912,Female,37,78000,1\\r\\n15586757,Male,39,134000,1\\r\\n15596522,Male,49,89000,1\\r\\n15625395,Male,55,39000,1\\r\\n15760570,Male,37,77000,0\\r\\n15566689,Female,35,57000,0\\r\\n15725794,Female,36,63000,0\\r\\n15673539,Male,42,73000,1\\r\\n15705298,Female,43,112000,1\\r\\n15675791,Male,45,79000,0\\r\\n15747043,Male,46,117000,1\\r\\n15736397,Female,58,38000,1\\r\\n15678201,Male,48,74000,1\\r\\n15720745,Female,37,137000,1\\r\\n15637593,Male,37,79000,1\\r\\n15598070,Female,40,60000,0\\r\\n15787550,Male,42,54000,0\\r\\n15603942,Female,51,134000,0\\r\\n15733973,Female,47,113000,1\\r\\n15596761,Male,36,125000,1\\r\\n15652400,Female,38,50000,0\\r\\n15717893,Female,42,70000,0\\r\\n15622585,Male,39,96000,1\\r\\n15733964,Female,38,50000,0\\r\\n15753861,Female,49,141000,1\\r\\n15747097,Female,39,79000,0\\r\\n15594762,Female,39,75000,1\\r\\n15667417,Female,54,104000,1\\r\\n15684861,Male,35,55000,0\\r\\n15742204,Male,45,32000,1\\r\\n15623502,Male,36,60000,0\\r\\n15774872,Female,52,138000,1\\r\\n15611191,Female,53,82000,1\\r\\n15674331,Male,41,52000,0\\r\\n15619465,Female,48,30000,1\\r\\n15575247,Female,48,131000,1\\r\\n15695679,Female,41,60000,0\\r\\n15713463,Male,41,72000,0\\r\\n15785170,Female,42,75000,0\\r\\n15796351,Male,36,118000,1\\r\\n15639576,Female,47,107000,1\\r\\n15693264,Male,38,51000,0\\r\\n15589715,Female,48,119000,1\\r\\n15769902,Male,42,65000,0\\r\\n15587177,Male,40,65000,0\\r\\n15814553,Male,57,60000,1\\r\\n15601550,Female,36,54000,0\\r\\n15664907,Male,58,144000,1\\r\\n15612465,Male,35,79000,0\\r\\n15810800,Female,38,55000,0\\r\\n15665760,Male,39,122000,1\\r\\n15588080,Female,53,104000,1\\r\\n15776844,Male,35,75000,0\\r\\n15717560,Female,38,65000,0\\r\\n15629739,Female,47,51000,1\\r\\n15729908,Male,47,105000,1\\r\\n15716781,Female,41,63000,0\\r\\n15646936,Male,53,72000,1\\r\\n15768151,Female,54,108000,1\\r\\n15579212,Male,39,77000,0\\r\\n15721835,Male,38,61000,0\\r\\n15800515,Female,38,113000,1\\r\\n15591279,Male,37,75000,0\\r\\n15587419,Female,42,90000,1\\r\\n15750335,Female,37,57000,0\\r\\n15699619,Male,36,99000,1\\r\\n15606472,Male,60,34000,1\\r\\n15778368,Male,54,70000,1\\r\\n15671387,Female,41,72000,0\\r\\n15573926,Male,40,71000,1\\r\\n15709183,Male,42,54000,0\\r\\n15577514,Male,43,129000,1\\r\\n15778830,Female,53,34000,1\\r\\n15768072,Female,47,50000,1\\r\\n15768293,Female,42,79000,0\\r\\n15654456,Male,42,104000,1\\r\\n15807525,Female,59,29000,1\\r\\n15574372,Female,58,47000,1\\r\\n15671249,Male,46,88000,1\\r\\n15779744,Male,38,71000,0\\r\\n15624755,Female,54,26000,1\\r\\n15611430,Female,60,46000,1\\r\\n15774744,Male,60,83000,1\\r\\n15629885,Female,39,73000,0\\r\\n15708791,Male,59,130000,1\\r\\n15793890,Female,37,80000,0\\r\\n15646091,Female,46,32000,1\\r\\n15596984,Female,46,74000,0\\r\\n15800215,Female,42,53000,0\\r\\n15577806,Male,41,87000,1\\r\\n15749381,Female,58,23000,1\\r\\n15683758,Male,42,64000,0\\r\\n15670615,Male,48,33000,1\\r\\n15715622,Female,44,139000,1\\r\\n15707634,Male,49,28000,1\\r\\n15806901,Female,57,33000,1\\r\\n15775335,Male,56,60000,1\\r\\n15724150,Female,49,39000,1\\r\\n15627220,Male,39,71000,0\\r\\n15672330,Male,47,34000,1\\r\\n15668521,Female,48,35000,1\\r\\n15807837,Male,48,33000,1\\r\\n15592570,Male,47,23000,1\\r\\n15748589,Female,45,45000,1\\r\\n15635893,Male,60,42000,1\\r\\n15757632,Female,39,59000,0\\r\\n15691863,Female,46,41000,1\\r\\n15706071,Male,51,23000,1\\r\\n15654296,Female,50,20000,1\\r\\n15755018,Male,36,33000,0\\r\\n15594041,Female,49,36000,1'}"
            ]
          },
          "metadata": {
            "tags": []
          },
          "execution_count": 1
        }
      ]
    },
    {
      "cell_type": "markdown",
      "metadata": {
        "id": "K7OH6WxSe62D"
      },
      "source": [
        "**STEP 2: READING THE CSV FILE**"
      ]
    },
    {
      "cell_type": "code",
      "metadata": {
        "colab": {
          "base_uri": "https://localhost:8080/",
          "height": 422
        },
        "id": "lEZX3kmSe5SD",
        "outputId": "2c0e575a-be85-4ef6-f8d8-8e0558a384d2"
      },
      "source": [
        "import pandas as pd\n",
        "df = pd.read_csv('Social_Network_Ads (1).csv')\n",
        "df"
      ],
      "execution_count": null,
      "outputs": [
        {
          "output_type": "execute_result",
          "data": {
            "text/html": [
              "<div>\n",
              "<style scoped>\n",
              "    .dataframe tbody tr th:only-of-type {\n",
              "        vertical-align: middle;\n",
              "    }\n",
              "\n",
              "    .dataframe tbody tr th {\n",
              "        vertical-align: top;\n",
              "    }\n",
              "\n",
              "    .dataframe thead th {\n",
              "        text-align: right;\n",
              "    }\n",
              "</style>\n",
              "<table border=\"1\" class=\"dataframe\">\n",
              "  <thead>\n",
              "    <tr style=\"text-align: right;\">\n",
              "      <th></th>\n",
              "      <th>User ID</th>\n",
              "      <th>Gender</th>\n",
              "      <th>Age</th>\n",
              "      <th>EstimatedSalary</th>\n",
              "      <th>Purchased</th>\n",
              "    </tr>\n",
              "  </thead>\n",
              "  <tbody>\n",
              "    <tr>\n",
              "      <th>0</th>\n",
              "      <td>15624510</td>\n",
              "      <td>Male</td>\n",
              "      <td>19</td>\n",
              "      <td>19000</td>\n",
              "      <td>0</td>\n",
              "    </tr>\n",
              "    <tr>\n",
              "      <th>1</th>\n",
              "      <td>15810944</td>\n",
              "      <td>Male</td>\n",
              "      <td>35</td>\n",
              "      <td>20000</td>\n",
              "      <td>0</td>\n",
              "    </tr>\n",
              "    <tr>\n",
              "      <th>2</th>\n",
              "      <td>15668575</td>\n",
              "      <td>Female</td>\n",
              "      <td>26</td>\n",
              "      <td>43000</td>\n",
              "      <td>0</td>\n",
              "    </tr>\n",
              "    <tr>\n",
              "      <th>3</th>\n",
              "      <td>15603246</td>\n",
              "      <td>Female</td>\n",
              "      <td>27</td>\n",
              "      <td>57000</td>\n",
              "      <td>0</td>\n",
              "    </tr>\n",
              "    <tr>\n",
              "      <th>4</th>\n",
              "      <td>15804002</td>\n",
              "      <td>Male</td>\n",
              "      <td>19</td>\n",
              "      <td>76000</td>\n",
              "      <td>0</td>\n",
              "    </tr>\n",
              "    <tr>\n",
              "      <th>...</th>\n",
              "      <td>...</td>\n",
              "      <td>...</td>\n",
              "      <td>...</td>\n",
              "      <td>...</td>\n",
              "      <td>...</td>\n",
              "    </tr>\n",
              "    <tr>\n",
              "      <th>395</th>\n",
              "      <td>15691863</td>\n",
              "      <td>Female</td>\n",
              "      <td>46</td>\n",
              "      <td>41000</td>\n",
              "      <td>1</td>\n",
              "    </tr>\n",
              "    <tr>\n",
              "      <th>396</th>\n",
              "      <td>15706071</td>\n",
              "      <td>Male</td>\n",
              "      <td>51</td>\n",
              "      <td>23000</td>\n",
              "      <td>1</td>\n",
              "    </tr>\n",
              "    <tr>\n",
              "      <th>397</th>\n",
              "      <td>15654296</td>\n",
              "      <td>Female</td>\n",
              "      <td>50</td>\n",
              "      <td>20000</td>\n",
              "      <td>1</td>\n",
              "    </tr>\n",
              "    <tr>\n",
              "      <th>398</th>\n",
              "      <td>15755018</td>\n",
              "      <td>Male</td>\n",
              "      <td>36</td>\n",
              "      <td>33000</td>\n",
              "      <td>0</td>\n",
              "    </tr>\n",
              "    <tr>\n",
              "      <th>399</th>\n",
              "      <td>15594041</td>\n",
              "      <td>Female</td>\n",
              "      <td>49</td>\n",
              "      <td>36000</td>\n",
              "      <td>1</td>\n",
              "    </tr>\n",
              "  </tbody>\n",
              "</table>\n",
              "<p>400 rows × 5 columns</p>\n",
              "</div>"
            ],
            "text/plain": [
              "      User ID  Gender  Age  EstimatedSalary  Purchased\n",
              "0    15624510    Male   19            19000          0\n",
              "1    15810944    Male   35            20000          0\n",
              "2    15668575  Female   26            43000          0\n",
              "3    15603246  Female   27            57000          0\n",
              "4    15804002    Male   19            76000          0\n",
              "..        ...     ...  ...              ...        ...\n",
              "395  15691863  Female   46            41000          1\n",
              "396  15706071    Male   51            23000          1\n",
              "397  15654296  Female   50            20000          1\n",
              "398  15755018    Male   36            33000          0\n",
              "399  15594041  Female   49            36000          1\n",
              "\n",
              "[400 rows x 5 columns]"
            ]
          },
          "metadata": {
            "tags": []
          },
          "execution_count": 2
        }
      ]
    },
    {
      "cell_type": "markdown",
      "metadata": {
        "id": "ZDwIM505fBnj"
      },
      "source": [
        " **STEP 3: GET THE THE ENTIRE DATASET**"
      ]
    },
    {
      "cell_type": "code",
      "metadata": {
        "colab": {
          "base_uri": "https://localhost:8080/"
        },
        "id": "q1lv7cNUfDJ8",
        "outputId": "07512dda-397d-4056-c724-86eeb4e6154c"
      },
      "source": [
        "df = pd.read_csv('Social_Network_Ads (1).csv')\n",
        "print(df.to_string())"
      ],
      "execution_count": null,
      "outputs": [
        {
          "output_type": "stream",
          "text": [
            "      User ID  Gender  Age  EstimatedSalary  Purchased\n",
            "0    15624510    Male   19            19000          0\n",
            "1    15810944    Male   35            20000          0\n",
            "2    15668575  Female   26            43000          0\n",
            "3    15603246  Female   27            57000          0\n",
            "4    15804002    Male   19            76000          0\n",
            "5    15728773    Male   27            58000          0\n",
            "6    15598044  Female   27            84000          0\n",
            "7    15694829  Female   32           150000          1\n",
            "8    15600575    Male   25            33000          0\n",
            "9    15727311  Female   35            65000          0\n",
            "10   15570769  Female   26            80000          0\n",
            "11   15606274  Female   26            52000          0\n",
            "12   15746139    Male   20            86000          0\n",
            "13   15704987    Male   32            18000          0\n",
            "14   15628972    Male   18            82000          0\n",
            "15   15697686    Male   29            80000          0\n",
            "16   15733883    Male   47            25000          1\n",
            "17   15617482    Male   45            26000          1\n",
            "18   15704583    Male   46            28000          1\n",
            "19   15621083  Female   48            29000          1\n",
            "20   15649487    Male   45            22000          1\n",
            "21   15736760  Female   47            49000          1\n",
            "22   15714658    Male   48            41000          1\n",
            "23   15599081  Female   45            22000          1\n",
            "24   15705113    Male   46            23000          1\n",
            "25   15631159    Male   47            20000          1\n",
            "26   15792818    Male   49            28000          1\n",
            "27   15633531  Female   47            30000          1\n",
            "28   15744529    Male   29            43000          0\n",
            "29   15669656    Male   31            18000          0\n",
            "30   15581198    Male   31            74000          0\n",
            "31   15729054  Female   27           137000          1\n",
            "32   15573452  Female   21            16000          0\n",
            "33   15776733  Female   28            44000          0\n",
            "34   15724858    Male   27            90000          0\n",
            "35   15713144    Male   35            27000          0\n",
            "36   15690188  Female   33            28000          0\n",
            "37   15689425    Male   30            49000          0\n",
            "38   15671766  Female   26            72000          0\n",
            "39   15782806  Female   27            31000          0\n",
            "40   15764419  Female   27            17000          0\n",
            "41   15591915  Female   33            51000          0\n",
            "42   15772798    Male   35           108000          0\n",
            "43   15792008    Male   30            15000          0\n",
            "44   15715541  Female   28            84000          0\n",
            "45   15639277    Male   23            20000          0\n",
            "46   15798850    Male   25            79000          0\n",
            "47   15776348  Female   27            54000          0\n",
            "48   15727696    Male   30           135000          1\n",
            "49   15793813  Female   31            89000          0\n",
            "50   15694395  Female   24            32000          0\n",
            "51   15764195  Female   18            44000          0\n",
            "52   15744919  Female   29            83000          0\n",
            "53   15671655  Female   35            23000          0\n",
            "54   15654901  Female   27            58000          0\n",
            "55   15649136  Female   24            55000          0\n",
            "56   15775562  Female   23            48000          0\n",
            "57   15807481    Male   28            79000          0\n",
            "58   15642885    Male   22            18000          0\n",
            "59   15789109  Female   32           117000          0\n",
            "60   15814004    Male   27            20000          0\n",
            "61   15673619    Male   25            87000          0\n",
            "62   15595135  Female   23            66000          0\n",
            "63   15583681    Male   32           120000          1\n",
            "64   15605000  Female   59            83000          0\n",
            "65   15718071    Male   24            58000          0\n",
            "66   15679760    Male   24            19000          0\n",
            "67   15654574  Female   23            82000          0\n",
            "68   15577178  Female   22            63000          0\n",
            "69   15595324  Female   31            68000          0\n",
            "70   15756932    Male   25            80000          0\n",
            "71   15726358  Female   24            27000          0\n",
            "72   15595228  Female   20            23000          0\n",
            "73   15782530  Female   33           113000          0\n",
            "74   15592877    Male   32            18000          0\n",
            "75   15651983    Male   34           112000          1\n",
            "76   15746737    Male   18            52000          0\n",
            "77   15774179  Female   22            27000          0\n",
            "78   15667265  Female   28            87000          0\n",
            "79   15655123  Female   26            17000          0\n",
            "80   15595917    Male   30            80000          0\n",
            "81   15668385    Male   39            42000          0\n",
            "82   15709476    Male   20            49000          0\n",
            "83   15711218    Male   35            88000          0\n",
            "84   15798659  Female   30            62000          0\n",
            "85   15663939  Female   31           118000          1\n",
            "86   15694946    Male   24            55000          0\n",
            "87   15631912  Female   28            85000          0\n",
            "88   15768816    Male   26            81000          0\n",
            "89   15682268    Male   35            50000          0\n",
            "90   15684801    Male   22            81000          0\n",
            "91   15636428  Female   30           116000          0\n",
            "92   15809823    Male   26            15000          0\n",
            "93   15699284  Female   29            28000          0\n",
            "94   15786993  Female   29            83000          0\n",
            "95   15709441  Female   35            44000          0\n",
            "96   15710257  Female   35            25000          0\n",
            "97   15582492    Male   28           123000          1\n",
            "98   15575694    Male   35            73000          0\n",
            "99   15756820  Female   28            37000          0\n",
            "100  15766289    Male   27            88000          0\n",
            "101  15593014    Male   28            59000          0\n",
            "102  15584545  Female   32            86000          0\n",
            "103  15675949  Female   33           149000          1\n",
            "104  15672091  Female   19            21000          0\n",
            "105  15801658    Male   21            72000          0\n",
            "106  15706185  Female   26            35000          0\n",
            "107  15789863    Male   27            89000          0\n",
            "108  15720943    Male   26            86000          0\n",
            "109  15697997  Female   38            80000          0\n",
            "110  15665416  Female   39            71000          0\n",
            "111  15660200  Female   37            71000          0\n",
            "112  15619653    Male   38            61000          0\n",
            "113  15773447    Male   37            55000          0\n",
            "114  15739160    Male   42            80000          0\n",
            "115  15689237    Male   40            57000          0\n",
            "116  15679297    Male   35            75000          0\n",
            "117  15591433    Male   36            52000          0\n",
            "118  15642725    Male   40            59000          0\n",
            "119  15701962    Male   41            59000          0\n",
            "120  15811613  Female   36            75000          0\n",
            "121  15741049    Male   37            72000          0\n",
            "122  15724423  Female   40            75000          0\n",
            "123  15574305    Male   35            53000          0\n",
            "124  15678168  Female   41            51000          0\n",
            "125  15697020  Female   39            61000          0\n",
            "126  15610801    Male   42            65000          0\n",
            "127  15745232    Male   26            32000          0\n",
            "128  15722758    Male   30            17000          0\n",
            "129  15792102  Female   26            84000          0\n",
            "130  15675185    Male   31            58000          0\n",
            "131  15801247    Male   33            31000          0\n",
            "132  15725660    Male   30            87000          0\n",
            "133  15638963  Female   21            68000          0\n",
            "134  15800061  Female   28            55000          0\n",
            "135  15578006    Male   23            63000          0\n",
            "136  15668504  Female   20            82000          0\n",
            "137  15687491    Male   30           107000          1\n",
            "138  15610403  Female   28            59000          0\n",
            "139  15741094    Male   19            25000          0\n",
            "140  15807909    Male   19            85000          0\n",
            "141  15666141  Female   18            68000          0\n",
            "142  15617134    Male   35            59000          0\n",
            "143  15783029    Male   30            89000          0\n",
            "144  15622833  Female   34            25000          0\n",
            "145  15746422  Female   24            89000          0\n",
            "146  15750839  Female   27            96000          1\n",
            "147  15749130  Female   41            30000          0\n",
            "148  15779862    Male   29            61000          0\n",
            "149  15767871    Male   20            74000          0\n",
            "150  15679651  Female   26            15000          0\n",
            "151  15576219    Male   41            45000          0\n",
            "152  15699247    Male   31            76000          0\n",
            "153  15619087  Female   36            50000          0\n",
            "154  15605327    Male   40            47000          0\n",
            "155  15610140  Female   31            15000          0\n",
            "156  15791174    Male   46            59000          0\n",
            "157  15602373    Male   29            75000          0\n",
            "158  15762605    Male   26            30000          0\n",
            "159  15598840  Female   32           135000          1\n",
            "160  15744279    Male   32           100000          1\n",
            "161  15670619    Male   25            90000          0\n",
            "162  15599533  Female   37            33000          0\n",
            "163  15757837    Male   35            38000          0\n",
            "164  15697574  Female   33            69000          0\n",
            "165  15578738  Female   18            86000          0\n",
            "166  15762228  Female   22            55000          0\n",
            "167  15614827  Female   35            71000          0\n",
            "168  15789815    Male   29           148000          1\n",
            "169  15579781  Female   29            47000          0\n",
            "170  15587013    Male   21            88000          0\n",
            "171  15570932    Male   34           115000          0\n",
            "172  15794661  Female   26           118000          0\n",
            "173  15581654  Female   34            43000          0\n",
            "174  15644296  Female   34            72000          0\n",
            "175  15614420  Female   23            28000          0\n",
            "176  15609653  Female   35            47000          0\n",
            "177  15594577    Male   25            22000          0\n",
            "178  15584114    Male   24            23000          0\n",
            "179  15673367  Female   31            34000          0\n",
            "180  15685576    Male   26            16000          0\n",
            "181  15774727  Female   31            71000          0\n",
            "182  15694288  Female   32           117000          1\n",
            "183  15603319    Male   33            43000          0\n",
            "184  15759066  Female   33            60000          0\n",
            "185  15814816    Male   31            66000          0\n",
            "186  15724402  Female   20            82000          0\n",
            "187  15571059  Female   33            41000          0\n",
            "188  15674206    Male   35            72000          0\n",
            "189  15715160    Male   28            32000          0\n",
            "190  15730448    Male   24            84000          0\n",
            "191  15662067  Female   19            26000          0\n",
            "192  15779581    Male   29            43000          0\n",
            "193  15662901    Male   19            70000          0\n",
            "194  15689751    Male   28            89000          0\n",
            "195  15667742    Male   34            43000          0\n",
            "196  15738448  Female   30            79000          0\n",
            "197  15680243  Female   20            36000          0\n",
            "198  15745083    Male   26            80000          0\n",
            "199  15708228    Male   35            22000          0\n",
            "200  15628523    Male   35            39000          0\n",
            "201  15708196    Male   49            74000          0\n",
            "202  15735549  Female   39           134000          1\n",
            "203  15809347  Female   41            71000          0\n",
            "204  15660866  Female   58           101000          1\n",
            "205  15766609  Female   47            47000          0\n",
            "206  15654230  Female   55           130000          1\n",
            "207  15794566  Female   52           114000          0\n",
            "208  15800890  Female   40           142000          1\n",
            "209  15697424  Female   46            22000          0\n",
            "210  15724536  Female   48            96000          1\n",
            "211  15735878    Male   52           150000          1\n",
            "212  15707596  Female   59            42000          0\n",
            "213  15657163    Male   35            58000          0\n",
            "214  15622478    Male   47            43000          0\n",
            "215  15779529  Female   60           108000          1\n",
            "216  15636023    Male   49            65000          0\n",
            "217  15582066    Male   40            78000          0\n",
            "218  15666675  Female   46            96000          0\n",
            "219  15732987    Male   59           143000          1\n",
            "220  15789432  Female   41            80000          0\n",
            "221  15663161    Male   35            91000          1\n",
            "222  15694879    Male   37           144000          1\n",
            "223  15593715    Male   60           102000          1\n",
            "224  15575002  Female   35            60000          0\n",
            "225  15622171    Male   37            53000          0\n",
            "226  15795224  Female   36           126000          1\n",
            "227  15685346    Male   56           133000          1\n",
            "228  15691808  Female   40            72000          0\n",
            "229  15721007  Female   42            80000          1\n",
            "230  15794253  Female   35           147000          1\n",
            "231  15694453    Male   39            42000          0\n",
            "232  15813113    Male   40           107000          1\n",
            "233  15614187    Male   49            86000          1\n",
            "234  15619407  Female   38           112000          0\n",
            "235  15646227    Male   46            79000          1\n",
            "236  15660541    Male   40            57000          0\n",
            "237  15753874  Female   37            80000          0\n",
            "238  15617877  Female   46            82000          0\n",
            "239  15772073  Female   53           143000          1\n",
            "240  15701537    Male   42           149000          1\n",
            "241  15736228    Male   38            59000          0\n",
            "242  15780572  Female   50            88000          1\n",
            "243  15769596  Female   56           104000          1\n",
            "244  15586996  Female   41            72000          0\n",
            "245  15722061  Female   51           146000          1\n",
            "246  15638003  Female   35            50000          0\n",
            "247  15775590  Female   57           122000          1\n",
            "248  15730688    Male   41            52000          0\n",
            "249  15753102  Female   35            97000          1\n",
            "250  15810075  Female   44            39000          0\n",
            "251  15723373    Male   37            52000          0\n",
            "252  15795298  Female   48           134000          1\n",
            "253  15584320  Female   37           146000          1\n",
            "254  15724161  Female   50            44000          0\n",
            "255  15750056  Female   52            90000          1\n",
            "256  15609637  Female   41            72000          0\n",
            "257  15794493    Male   40            57000          0\n",
            "258  15569641  Female   58            95000          1\n",
            "259  15815236  Female   45           131000          1\n",
            "260  15811177  Female   35            77000          0\n",
            "261  15680587    Male   36           144000          1\n",
            "262  15672821  Female   55           125000          1\n",
            "263  15767681  Female   35            72000          0\n",
            "264  15600379    Male   48            90000          1\n",
            "265  15801336  Female   42           108000          1\n",
            "266  15721592    Male   40            75000          0\n",
            "267  15581282    Male   37            74000          0\n",
            "268  15746203  Female   47           144000          1\n",
            "269  15583137    Male   40            61000          0\n",
            "270  15680752  Female   43           133000          0\n",
            "271  15688172  Female   59            76000          1\n",
            "272  15791373    Male   60            42000          1\n",
            "273  15589449    Male   39           106000          1\n",
            "274  15692819  Female   57            26000          1\n",
            "275  15727467    Male   57            74000          1\n",
            "276  15734312    Male   38            71000          0\n",
            "277  15764604    Male   49            88000          1\n",
            "278  15613014  Female   52            38000          1\n",
            "279  15759684  Female   50            36000          1\n",
            "280  15609669  Female   59            88000          1\n",
            "281  15685536    Male   35            61000          0\n",
            "282  15750447    Male   37            70000          1\n",
            "283  15663249  Female   52            21000          1\n",
            "284  15638646    Male   48           141000          0\n",
            "285  15734161  Female   37            93000          1\n",
            "286  15631070  Female   37            62000          0\n",
            "287  15761950  Female   48           138000          1\n",
            "288  15649668    Male   41            79000          0\n",
            "289  15713912  Female   37            78000          1\n",
            "290  15586757    Male   39           134000          1\n",
            "291  15596522    Male   49            89000          1\n",
            "292  15625395    Male   55            39000          1\n",
            "293  15760570    Male   37            77000          0\n",
            "294  15566689  Female   35            57000          0\n",
            "295  15725794  Female   36            63000          0\n",
            "296  15673539    Male   42            73000          1\n",
            "297  15705298  Female   43           112000          1\n",
            "298  15675791    Male   45            79000          0\n",
            "299  15747043    Male   46           117000          1\n",
            "300  15736397  Female   58            38000          1\n",
            "301  15678201    Male   48            74000          1\n",
            "302  15720745  Female   37           137000          1\n",
            "303  15637593    Male   37            79000          1\n",
            "304  15598070  Female   40            60000          0\n",
            "305  15787550    Male   42            54000          0\n",
            "306  15603942  Female   51           134000          0\n",
            "307  15733973  Female   47           113000          1\n",
            "308  15596761    Male   36           125000          1\n",
            "309  15652400  Female   38            50000          0\n",
            "310  15717893  Female   42            70000          0\n",
            "311  15622585    Male   39            96000          1\n",
            "312  15733964  Female   38            50000          0\n",
            "313  15753861  Female   49           141000          1\n",
            "314  15747097  Female   39            79000          0\n",
            "315  15594762  Female   39            75000          1\n",
            "316  15667417  Female   54           104000          1\n",
            "317  15684861    Male   35            55000          0\n",
            "318  15742204    Male   45            32000          1\n",
            "319  15623502    Male   36            60000          0\n",
            "320  15774872  Female   52           138000          1\n",
            "321  15611191  Female   53            82000          1\n",
            "322  15674331    Male   41            52000          0\n",
            "323  15619465  Female   48            30000          1\n",
            "324  15575247  Female   48           131000          1\n",
            "325  15695679  Female   41            60000          0\n",
            "326  15713463    Male   41            72000          0\n",
            "327  15785170  Female   42            75000          0\n",
            "328  15796351    Male   36           118000          1\n",
            "329  15639576  Female   47           107000          1\n",
            "330  15693264    Male   38            51000          0\n",
            "331  15589715  Female   48           119000          1\n",
            "332  15769902    Male   42            65000          0\n",
            "333  15587177    Male   40            65000          0\n",
            "334  15814553    Male   57            60000          1\n",
            "335  15601550  Female   36            54000          0\n",
            "336  15664907    Male   58           144000          1\n",
            "337  15612465    Male   35            79000          0\n",
            "338  15810800  Female   38            55000          0\n",
            "339  15665760    Male   39           122000          1\n",
            "340  15588080  Female   53           104000          1\n",
            "341  15776844    Male   35            75000          0\n",
            "342  15717560  Female   38            65000          0\n",
            "343  15629739  Female   47            51000          1\n",
            "344  15729908    Male   47           105000          1\n",
            "345  15716781  Female   41            63000          0\n",
            "346  15646936    Male   53            72000          1\n",
            "347  15768151  Female   54           108000          1\n",
            "348  15579212    Male   39            77000          0\n",
            "349  15721835    Male   38            61000          0\n",
            "350  15800515  Female   38           113000          1\n",
            "351  15591279    Male   37            75000          0\n",
            "352  15587419  Female   42            90000          1\n",
            "353  15750335  Female   37            57000          0\n",
            "354  15699619    Male   36            99000          1\n",
            "355  15606472    Male   60            34000          1\n",
            "356  15778368    Male   54            70000          1\n",
            "357  15671387  Female   41            72000          0\n",
            "358  15573926    Male   40            71000          1\n",
            "359  15709183    Male   42            54000          0\n",
            "360  15577514    Male   43           129000          1\n",
            "361  15778830  Female   53            34000          1\n",
            "362  15768072  Female   47            50000          1\n",
            "363  15768293  Female   42            79000          0\n",
            "364  15654456    Male   42           104000          1\n",
            "365  15807525  Female   59            29000          1\n",
            "366  15574372  Female   58            47000          1\n",
            "367  15671249    Male   46            88000          1\n",
            "368  15779744    Male   38            71000          0\n",
            "369  15624755  Female   54            26000          1\n",
            "370  15611430  Female   60            46000          1\n",
            "371  15774744    Male   60            83000          1\n",
            "372  15629885  Female   39            73000          0\n",
            "373  15708791    Male   59           130000          1\n",
            "374  15793890  Female   37            80000          0\n",
            "375  15646091  Female   46            32000          1\n",
            "376  15596984  Female   46            74000          0\n",
            "377  15800215  Female   42            53000          0\n",
            "378  15577806    Male   41            87000          1\n",
            "379  15749381  Female   58            23000          1\n",
            "380  15683758    Male   42            64000          0\n",
            "381  15670615    Male   48            33000          1\n",
            "382  15715622  Female   44           139000          1\n",
            "383  15707634    Male   49            28000          1\n",
            "384  15806901  Female   57            33000          1\n",
            "385  15775335    Male   56            60000          1\n",
            "386  15724150  Female   49            39000          1\n",
            "387  15627220    Male   39            71000          0\n",
            "388  15672330    Male   47            34000          1\n",
            "389  15668521  Female   48            35000          1\n",
            "390  15807837    Male   48            33000          1\n",
            "391  15592570    Male   47            23000          1\n",
            "392  15748589  Female   45            45000          1\n",
            "393  15635893    Male   60            42000          1\n",
            "394  15757632  Female   39            59000          0\n",
            "395  15691863  Female   46            41000          1\n",
            "396  15706071    Male   51            23000          1\n",
            "397  15654296  Female   50            20000          1\n",
            "398  15755018    Male   36            33000          0\n",
            "399  15594041  Female   49            36000          1\n"
          ],
          "name": "stdout"
        }
      ]
    },
    {
      "cell_type": "markdown",
      "metadata": {
        "id": "SuQ2wnQbfH8C"
      },
      "source": [
        "**STEP 4: GET FULL INFO**"
      ]
    },
    {
      "cell_type": "code",
      "metadata": {
        "colab": {
          "base_uri": "https://localhost:8080/"
        },
        "id": "G03oiEZSfJwC",
        "outputId": "d954926e-925e-4e30-eed5-927f7802a457"
      },
      "source": [
        "df.info()"
      ],
      "execution_count": null,
      "outputs": [
        {
          "output_type": "stream",
          "text": [
            "<class 'pandas.core.frame.DataFrame'>\n",
            "RangeIndex: 400 entries, 0 to 399\n",
            "Data columns (total 5 columns):\n",
            " #   Column           Non-Null Count  Dtype \n",
            "---  ------           --------------  ----- \n",
            " 0   User ID          400 non-null    int64 \n",
            " 1   Gender           400 non-null    object\n",
            " 2   Age              400 non-null    int64 \n",
            " 3   EstimatedSalary  400 non-null    int64 \n",
            " 4   Purchased        400 non-null    int64 \n",
            "dtypes: int64(4), object(1)\n",
            "memory usage: 15.8+ KB\n"
          ],
          "name": "stdout"
        }
      ]
    },
    {
      "cell_type": "markdown",
      "metadata": {
        "id": "PLzDdNqNfNpT"
      },
      "source": [
        "**STEP 5: REPLACE FEMALE AND MALE WITH 0 & 1**"
      ]
    },
    {
      "cell_type": "code",
      "metadata": {
        "colab": {
          "base_uri": "https://localhost:8080/",
          "height": 205
        },
        "id": "DOIB9M9LfPmM",
        "outputId": "44e5eee5-bcc8-4dfd-90b3-c4d4de07ab1f"
      },
      "source": [
        "df['Gender'] = df['Gender'].replace(['Female','Male'],[0,1])\n",
        "df.head()"
      ],
      "execution_count": null,
      "outputs": [
        {
          "output_type": "execute_result",
          "data": {
            "text/html": [
              "<div>\n",
              "<style scoped>\n",
              "    .dataframe tbody tr th:only-of-type {\n",
              "        vertical-align: middle;\n",
              "    }\n",
              "\n",
              "    .dataframe tbody tr th {\n",
              "        vertical-align: top;\n",
              "    }\n",
              "\n",
              "    .dataframe thead th {\n",
              "        text-align: right;\n",
              "    }\n",
              "</style>\n",
              "<table border=\"1\" class=\"dataframe\">\n",
              "  <thead>\n",
              "    <tr style=\"text-align: right;\">\n",
              "      <th></th>\n",
              "      <th>User ID</th>\n",
              "      <th>Gender</th>\n",
              "      <th>Age</th>\n",
              "      <th>EstimatedSalary</th>\n",
              "      <th>Purchased</th>\n",
              "    </tr>\n",
              "  </thead>\n",
              "  <tbody>\n",
              "    <tr>\n",
              "      <th>0</th>\n",
              "      <td>15624510</td>\n",
              "      <td>1</td>\n",
              "      <td>19</td>\n",
              "      <td>19000</td>\n",
              "      <td>0</td>\n",
              "    </tr>\n",
              "    <tr>\n",
              "      <th>1</th>\n",
              "      <td>15810944</td>\n",
              "      <td>1</td>\n",
              "      <td>35</td>\n",
              "      <td>20000</td>\n",
              "      <td>0</td>\n",
              "    </tr>\n",
              "    <tr>\n",
              "      <th>2</th>\n",
              "      <td>15668575</td>\n",
              "      <td>0</td>\n",
              "      <td>26</td>\n",
              "      <td>43000</td>\n",
              "      <td>0</td>\n",
              "    </tr>\n",
              "    <tr>\n",
              "      <th>3</th>\n",
              "      <td>15603246</td>\n",
              "      <td>0</td>\n",
              "      <td>27</td>\n",
              "      <td>57000</td>\n",
              "      <td>0</td>\n",
              "    </tr>\n",
              "    <tr>\n",
              "      <th>4</th>\n",
              "      <td>15804002</td>\n",
              "      <td>1</td>\n",
              "      <td>19</td>\n",
              "      <td>76000</td>\n",
              "      <td>0</td>\n",
              "    </tr>\n",
              "  </tbody>\n",
              "</table>\n",
              "</div>"
            ],
            "text/plain": [
              "    User ID  Gender  Age  EstimatedSalary  Purchased\n",
              "0  15624510       1   19            19000          0\n",
              "1  15810944       1   35            20000          0\n",
              "2  15668575       0   26            43000          0\n",
              "3  15603246       0   27            57000          0\n",
              "4  15804002       1   19            76000          0"
            ]
          },
          "metadata": {
            "tags": []
          },
          "execution_count": 5
        }
      ]
    },
    {
      "cell_type": "markdown",
      "metadata": {
        "id": "zwLaYixlfTwG"
      },
      "source": [
        "**STEP 6: Eliminate USER ID**"
      ]
    },
    {
      "cell_type": "code",
      "metadata": {
        "colab": {
          "base_uri": "https://localhost:8080/",
          "height": 205
        },
        "id": "3jDZ-bf-fVHV",
        "outputId": "2f8a9fc7-4032-44dc-8a60-4c78ec10d2f1"
      },
      "source": [
        "df = df.drop(['User ID'], axis = 1)\n",
        "df.head()\n",
        "\n",
        "#list_drop = ['User ID']\n",
        "#df.drop(list_drop, axis=1, inplace=True)"
      ],
      "execution_count": null,
      "outputs": [
        {
          "output_type": "execute_result",
          "data": {
            "text/html": [
              "<div>\n",
              "<style scoped>\n",
              "    .dataframe tbody tr th:only-of-type {\n",
              "        vertical-align: middle;\n",
              "    }\n",
              "\n",
              "    .dataframe tbody tr th {\n",
              "        vertical-align: top;\n",
              "    }\n",
              "\n",
              "    .dataframe thead th {\n",
              "        text-align: right;\n",
              "    }\n",
              "</style>\n",
              "<table border=\"1\" class=\"dataframe\">\n",
              "  <thead>\n",
              "    <tr style=\"text-align: right;\">\n",
              "      <th></th>\n",
              "      <th>Gender</th>\n",
              "      <th>Age</th>\n",
              "      <th>EstimatedSalary</th>\n",
              "      <th>Purchased</th>\n",
              "    </tr>\n",
              "  </thead>\n",
              "  <tbody>\n",
              "    <tr>\n",
              "      <th>0</th>\n",
              "      <td>1</td>\n",
              "      <td>19</td>\n",
              "      <td>19000</td>\n",
              "      <td>0</td>\n",
              "    </tr>\n",
              "    <tr>\n",
              "      <th>1</th>\n",
              "      <td>1</td>\n",
              "      <td>35</td>\n",
              "      <td>20000</td>\n",
              "      <td>0</td>\n",
              "    </tr>\n",
              "    <tr>\n",
              "      <th>2</th>\n",
              "      <td>0</td>\n",
              "      <td>26</td>\n",
              "      <td>43000</td>\n",
              "      <td>0</td>\n",
              "    </tr>\n",
              "    <tr>\n",
              "      <th>3</th>\n",
              "      <td>0</td>\n",
              "      <td>27</td>\n",
              "      <td>57000</td>\n",
              "      <td>0</td>\n",
              "    </tr>\n",
              "    <tr>\n",
              "      <th>4</th>\n",
              "      <td>1</td>\n",
              "      <td>19</td>\n",
              "      <td>76000</td>\n",
              "      <td>0</td>\n",
              "    </tr>\n",
              "  </tbody>\n",
              "</table>\n",
              "</div>"
            ],
            "text/plain": [
              "   Gender  Age  EstimatedSalary  Purchased\n",
              "0       1   19            19000          0\n",
              "1       1   35            20000          0\n",
              "2       0   26            43000          0\n",
              "3       0   27            57000          0\n",
              "4       1   19            76000          0"
            ]
          },
          "metadata": {
            "tags": []
          },
          "execution_count": 6
        }
      ]
    },
    {
      "cell_type": "markdown",
      "metadata": {
        "id": "D7O8LtSWfbrL"
      },
      "source": [
        "**STEP 7: PLOT NECESSARY GRAPHS FOR DETAIL REPORTS**"
      ]
    },
    {
      "cell_type": "code",
      "metadata": {
        "colab": {
          "base_uri": "https://localhost:8080/",
          "height": 531
        },
        "id": "ryQ5oXaIfc1l",
        "outputId": "4d9e6803-d2ff-4416-c416-7cdb44ac6c39"
      },
      "source": [
        "import seaborn as sns\n",
        "sns.FacetGrid(df, hue = 'Gender', height = 7).map(sns.kdeplot, 'EstimatedSalary').add_legend()"
      ],
      "execution_count": null,
      "outputs": [
        {
          "output_type": "execute_result",
          "data": {
            "text/plain": [
              "<seaborn.axisgrid.FacetGrid at 0x7f00193a3f10>"
            ]
          },
          "metadata": {
            "tags": []
          },
          "execution_count": 7
        },
        {
          "output_type": "display_data",
          "data": {
            "image/png": "[encoded data removed]",
            "text/plain": [
              "<Figure size 548.875x504 with 1 Axes>"
            ]
          },
          "metadata": {
            "tags": []
          }
        }
      ]
    },
    {
      "cell_type": "code",
      "metadata": {
        "colab": {
          "base_uri": "https://localhost:8080/",
          "height": 531
        },
        "id": "FuoTMDs2fh4z",
        "outputId": "9d0fb6e8-d370-4a1f-a1b0-a6573f6681d4"
      },
      "source": [
        "sns.FacetGrid(df, hue = 'Purchased', height = 7).map(sns.kdeplot, 'EstimatedSalary').add_legend()"
      ],
      "execution_count": null,
      "outputs": [
        {
          "output_type": "execute_result",
          "data": {
            "text/plain": [
              "<seaborn.axisgrid.FacetGrid at 0x7f0018bd68d0>"
            ]
          },
          "metadata": {
            "tags": []
          },
          "execution_count": 8
        },
        {
          "output_type": "display_data",
          "data": {
            "image/png": "[encoded data removed]",
            "text/plain": [
              "<Figure size 563.875x504 with 1 Axes>"
            ]
          },
          "metadata": {
            "tags": []
          }
        }
      ]
    },
    {
      "cell_type": "markdown",
      "metadata": {
        "id": "egUfy3GHfmSD"
      },
      "source": [
        "**STEP 8: MAKE CORRELATION GRAPHS**"
      ]
    },
    {
      "cell_type": "code",
      "metadata": {
        "colab": {
          "base_uri": "https://localhost:8080/",
          "height": 885
        },
        "id": "J3Juj9gtfnmb",
        "outputId": "713ec8c4-fdf9-4250-f2a0-098dff12b05b"
      },
      "source": [
        "import matplotlib.pyplot as plt\n",
        "plt.figure(figsize= (12, 15))\n",
        "\n",
        "corr = df.corr()\n",
        "sns.heatmap(corr, annot = True, cmap = plt.cm.CMRmap_r)"
      ],
      "execution_count": null,
      "outputs": [
        {
          "output_type": "execute_result",
          "data": {
            "text/plain": [
              "<matplotlib.axes._subplots.AxesSubplot at 0x7f00193a3d10>"
            ]
          },
          "metadata": {
            "tags": []
          },
          "execution_count": 9
        },
        {
          "output_type": "display_data",
          "data": {
            "image/png": "[encoded data removed]",
            "text/plain": [
              "<Figure size 864x1080 with 2 Axes>"
            ]
          },
          "metadata": {
            "tags": []
          }
        }
      ]
    },
    {
      "cell_type": "markdown",
      "metadata": {
        "id": "5L9eK3WQftLK"
      },
      "source": [
        "**STEP 9: APPROACH THE MACHINE LEARNING MODEL**"
      ]
    },
    {
      "cell_type": "markdown",
      "metadata": {
        "id": "tMKcOh1Yfxbd"
      },
      "source": [
        "**Find Feature Column**"
      ]
    },
    {
      "cell_type": "code",
      "metadata": {
        "id": "tEAglepKfvIb"
      },
      "source": [
        "Feature_Cols = ['Gender','Age','EstimatedSalary']\n",
        "\n",
        "x = df[Feature_Cols]\n",
        "y = df['Purchased']"
      ],
      "execution_count": null,
      "outputs": []
    },
    {
      "cell_type": "code",
      "metadata": {
        "colab": {
          "base_uri": "https://localhost:8080/",
          "height": 205
        },
        "id": "PRV2v-t3f3w7",
        "outputId": "2b6fac52-0589-4757-ec6d-34d5d6165692"
      },
      "source": [
        "x.head()"
      ],
      "execution_count": null,
      "outputs": [
        {
          "output_type": "execute_result",
          "data": {
            "text/html": [
              "<div>\n",
              "<style scoped>\n",
              "    .dataframe tbody tr th:only-of-type {\n",
              "        vertical-align: middle;\n",
              "    }\n",
              "\n",
              "    .dataframe tbody tr th {\n",
              "        vertical-align: top;\n",
              "    }\n",
              "\n",
              "    .dataframe thead th {\n",
              "        text-align: right;\n",
              "    }\n",
              "</style>\n",
              "<table border=\"1\" class=\"dataframe\">\n",
              "  <thead>\n",
              "    <tr style=\"text-align: right;\">\n",
              "      <th></th>\n",
              "      <th>Gender</th>\n",
              "      <th>Age</th>\n",
              "      <th>EstimatedSalary</th>\n",
              "    </tr>\n",
              "  </thead>\n",
              "  <tbody>\n",
              "    <tr>\n",
              "      <th>0</th>\n",
              "      <td>1</td>\n",
              "      <td>19</td>\n",
              "      <td>19000</td>\n",
              "    </tr>\n",
              "    <tr>\n",
              "      <th>1</th>\n",
              "      <td>1</td>\n",
              "      <td>35</td>\n",
              "      <td>20000</td>\n",
              "    </tr>\n",
              "    <tr>\n",
              "      <th>2</th>\n",
              "      <td>0</td>\n",
              "      <td>26</td>\n",
              "      <td>43000</td>\n",
              "    </tr>\n",
              "    <tr>\n",
              "      <th>3</th>\n",
              "      <td>0</td>\n",
              "      <td>27</td>\n",
              "      <td>57000</td>\n",
              "    </tr>\n",
              "    <tr>\n",
              "      <th>4</th>\n",
              "      <td>1</td>\n",
              "      <td>19</td>\n",
              "      <td>76000</td>\n",
              "    </tr>\n",
              "  </tbody>\n",
              "</table>\n",
              "</div>"
            ],
            "text/plain": [
              "   Gender  Age  EstimatedSalary\n",
              "0       1   19            19000\n",
              "1       1   35            20000\n",
              "2       0   26            43000\n",
              "3       0   27            57000\n",
              "4       1   19            76000"
            ]
          },
          "metadata": {
            "tags": []
          },
          "execution_count": 11
        }
      ]
    },
    {
      "cell_type": "code",
      "metadata": {
        "colab": {
          "base_uri": "https://localhost:8080/"
        },
        "id": "fNg2ZyLrf5-s",
        "outputId": "086896aa-b5d5-4c70-d509-f64df175e4ac"
      },
      "source": [
        "y.head()"
      ],
      "execution_count": null,
      "outputs": [
        {
          "output_type": "execute_result",
          "data": {
            "text/plain": [
              "0    0\n",
              "1    0\n",
              "2    0\n",
              "3    0\n",
              "4    0\n",
              "Name: Purchased, dtype: int64"
            ]
          },
          "metadata": {
            "tags": []
          },
          "execution_count": 12
        }
      ]
    },
    {
      "cell_type": "code",
      "metadata": {
        "colab": {
          "base_uri": "https://localhost:8080/",
          "height": 1000
        },
        "id": "cUuXu-Dof8Wz",
        "outputId": "366d1aa2-7b8c-4d9a-866b-7df25db7024f"
      },
      "source": [
        "from sklearn.model_selection import train_test_split\n",
        "\n",
        "x_train, x_test, y_train, y_test = train_test_split(x,y, test_size = 0.10)\n",
        "\n",
        "x_test"
      ],
      "execution_count": null,
      "outputs": [
        {
          "output_type": "execute_result",
          "data": {
            "text/html": [
              "<div>\n",
              "<style scoped>\n",
              "    .dataframe tbody tr th:only-of-type {\n",
              "        vertical-align: middle;\n",
              "    }\n",
              "\n",
              "    .dataframe tbody tr th {\n",
              "        vertical-align: top;\n",
              "    }\n",
              "\n",
              "    .dataframe thead th {\n",
              "        text-align: right;\n",
              "    }\n",
              "</style>\n",
              "<table border=\"1\" class=\"dataframe\">\n",
              "  <thead>\n",
              "    <tr style=\"text-align: right;\">\n",
              "      <th></th>\n",
              "      <th>Gender</th>\n",
              "      <th>Age</th>\n",
              "      <th>EstimatedSalary</th>\n",
              "    </tr>\n",
              "  </thead>\n",
              "  <tbody>\n",
              "    <tr>\n",
              "      <th>235</th>\n",
              "      <td>1</td>\n",
              "      <td>46</td>\n",
              "      <td>79000</td>\n",
              "    </tr>\n",
              "    <tr>\n",
              "      <th>379</th>\n",
              "      <td>0</td>\n",
              "      <td>58</td>\n",
              "      <td>23000</td>\n",
              "    </tr>\n",
              "    <tr>\n",
              "      <th>255</th>\n",
              "      <td>0</td>\n",
              "      <td>52</td>\n",
              "      <td>90000</td>\n",
              "    </tr>\n",
              "    <tr>\n",
              "      <th>342</th>\n",
              "      <td>0</td>\n",
              "      <td>38</td>\n",
              "      <td>65000</td>\n",
              "    </tr>\n",
              "    <tr>\n",
              "      <th>305</th>\n",
              "      <td>1</td>\n",
              "      <td>42</td>\n",
              "      <td>54000</td>\n",
              "    </tr>\n",
              "    <tr>\n",
              "      <th>343</th>\n",
              "      <td>0</td>\n",
              "      <td>47</td>\n",
              "      <td>51000</td>\n",
              "    </tr>\n",
              "    <tr>\n",
              "      <th>34</th>\n",
              "      <td>1</td>\n",
              "      <td>27</td>\n",
              "      <td>90000</td>\n",
              "    </tr>\n",
              "    <tr>\n",
              "      <th>299</th>\n",
              "      <td>1</td>\n",
              "      <td>46</td>\n",
              "      <td>117000</td>\n",
              "    </tr>\n",
              "    <tr>\n",
              "      <th>143</th>\n",
              "      <td>1</td>\n",
              "      <td>30</td>\n",
              "      <td>89000</td>\n",
              "    </tr>\n",
              "    <tr>\n",
              "      <th>105</th>\n",
              "      <td>1</td>\n",
              "      <td>21</td>\n",
              "      <td>72000</td>\n",
              "    </tr>\n",
              "    <tr>\n",
              "      <th>390</th>\n",
              "      <td>1</td>\n",
              "      <td>48</td>\n",
              "      <td>33000</td>\n",
              "    </tr>\n",
              "    <tr>\n",
              "      <th>355</th>\n",
              "      <td>1</td>\n",
              "      <td>60</td>\n",
              "      <td>34000</td>\n",
              "    </tr>\n",
              "    <tr>\n",
              "      <th>276</th>\n",
              "      <td>1</td>\n",
              "      <td>38</td>\n",
              "      <td>71000</td>\n",
              "    </tr>\n",
              "    <tr>\n",
              "      <th>380</th>\n",
              "      <td>1</td>\n",
              "      <td>42</td>\n",
              "      <td>64000</td>\n",
              "    </tr>\n",
              "    <tr>\n",
              "      <th>392</th>\n",
              "      <td>0</td>\n",
              "      <td>45</td>\n",
              "      <td>45000</td>\n",
              "    </tr>\n",
              "    <tr>\n",
              "      <th>5</th>\n",
              "      <td>1</td>\n",
              "      <td>27</td>\n",
              "      <td>58000</td>\n",
              "    </tr>\n",
              "    <tr>\n",
              "      <th>49</th>\n",
              "      <td>0</td>\n",
              "      <td>31</td>\n",
              "      <td>89000</td>\n",
              "    </tr>\n",
              "    <tr>\n",
              "      <th>253</th>\n",
              "      <td>0</td>\n",
              "      <td>37</td>\n",
              "      <td>146000</td>\n",
              "    </tr>\n",
              "    <tr>\n",
              "      <th>359</th>\n",
              "      <td>1</td>\n",
              "      <td>42</td>\n",
              "      <td>54000</td>\n",
              "    </tr>\n",
              "    <tr>\n",
              "      <th>67</th>\n",
              "      <td>0</td>\n",
              "      <td>23</td>\n",
              "      <td>82000</td>\n",
              "    </tr>\n",
              "    <tr>\n",
              "      <th>291</th>\n",
              "      <td>1</td>\n",
              "      <td>49</td>\n",
              "      <td>89000</td>\n",
              "    </tr>\n",
              "    <tr>\n",
              "      <th>254</th>\n",
              "      <td>0</td>\n",
              "      <td>50</td>\n",
              "      <td>44000</td>\n",
              "    </tr>\n",
              "    <tr>\n",
              "      <th>387</th>\n",
              "      <td>1</td>\n",
              "      <td>39</td>\n",
              "      <td>71000</td>\n",
              "    </tr>\n",
              "    <tr>\n",
              "      <th>234</th>\n",
              "      <td>0</td>\n",
              "      <td>38</td>\n",
              "      <td>112000</td>\n",
              "    </tr>\n",
              "    <tr>\n",
              "      <th>333</th>\n",
              "      <td>1</td>\n",
              "      <td>40</td>\n",
              "      <td>65000</td>\n",
              "    </tr>\n",
              "    <tr>\n",
              "      <th>354</th>\n",
              "      <td>1</td>\n",
              "      <td>36</td>\n",
              "      <td>99000</td>\n",
              "    </tr>\n",
              "    <tr>\n",
              "      <th>12</th>\n",
              "      <td>1</td>\n",
              "      <td>20</td>\n",
              "      <td>86000</td>\n",
              "    </tr>\n",
              "    <tr>\n",
              "      <th>96</th>\n",
              "      <td>0</td>\n",
              "      <td>35</td>\n",
              "      <td>25000</td>\n",
              "    </tr>\n",
              "    <tr>\n",
              "      <th>10</th>\n",
              "      <td>0</td>\n",
              "      <td>26</td>\n",
              "      <td>80000</td>\n",
              "    </tr>\n",
              "    <tr>\n",
              "      <th>352</th>\n",
              "      <td>0</td>\n",
              "      <td>42</td>\n",
              "      <td>90000</td>\n",
              "    </tr>\n",
              "    <tr>\n",
              "      <th>106</th>\n",
              "      <td>0</td>\n",
              "      <td>26</td>\n",
              "      <td>35000</td>\n",
              "    </tr>\n",
              "    <tr>\n",
              "      <th>398</th>\n",
              "      <td>1</td>\n",
              "      <td>36</td>\n",
              "      <td>33000</td>\n",
              "    </tr>\n",
              "    <tr>\n",
              "      <th>204</th>\n",
              "      <td>0</td>\n",
              "      <td>58</td>\n",
              "      <td>101000</td>\n",
              "    </tr>\n",
              "    <tr>\n",
              "      <th>316</th>\n",
              "      <td>0</td>\n",
              "      <td>54</td>\n",
              "      <td>104000</td>\n",
              "    </tr>\n",
              "    <tr>\n",
              "      <th>38</th>\n",
              "      <td>0</td>\n",
              "      <td>26</td>\n",
              "      <td>72000</td>\n",
              "    </tr>\n",
              "    <tr>\n",
              "      <th>162</th>\n",
              "      <td>0</td>\n",
              "      <td>37</td>\n",
              "      <td>33000</td>\n",
              "    </tr>\n",
              "    <tr>\n",
              "      <th>205</th>\n",
              "      <td>0</td>\n",
              "      <td>47</td>\n",
              "      <td>47000</td>\n",
              "    </tr>\n",
              "    <tr>\n",
              "      <th>283</th>\n",
              "      <td>0</td>\n",
              "      <td>52</td>\n",
              "      <td>21000</td>\n",
              "    </tr>\n",
              "    <tr>\n",
              "      <th>80</th>\n",
              "      <td>1</td>\n",
              "      <td>30</td>\n",
              "      <td>80000</td>\n",
              "    </tr>\n",
              "    <tr>\n",
              "      <th>384</th>\n",
              "      <td>0</td>\n",
              "      <td>57</td>\n",
              "      <td>33000</td>\n",
              "    </tr>\n",
              "  </tbody>\n",
              "</table>\n",
              "</div>"
            ],
            "text/plain": [
              "     Gender  Age  EstimatedSalary\n",
              "235       1   46            79000\n",
              "379       0   58            23000\n",
              "255       0   52            90000\n",
              "342       0   38            65000\n",
              "305       1   42            54000\n",
              "343       0   47            51000\n",
              "34        1   27            90000\n",
              "299       1   46           117000\n",
              "143       1   30            89000\n",
              "105       1   21            72000\n",
              "390       1   48            33000\n",
              "355       1   60            34000\n",
              "276       1   38            71000\n",
              "380       1   42            64000\n",
              "392       0   45            45000\n",
              "5         1   27            58000\n",
              "49        0   31            89000\n",
              "253       0   37           146000\n",
              "359       1   42            54000\n",
              "67        0   23            82000\n",
              "291       1   49            89000\n",
              "254       0   50            44000\n",
              "387       1   39            71000\n",
              "234       0   38           112000\n",
              "333       1   40            65000\n",
              "354       1   36            99000\n",
              "12        1   20            86000\n",
              "96        0   35            25000\n",
              "10        0   26            80000\n",
              "352       0   42            90000\n",
              "106       0   26            35000\n",
              "398       1   36            33000\n",
              "204       0   58           101000\n",
              "316       0   54           104000\n",
              "38        0   26            72000\n",
              "162       0   37            33000\n",
              "205       0   47            47000\n",
              "283       0   52            21000\n",
              "80        1   30            80000\n",
              "384       0   57            33000"
            ]
          },
          "metadata": {
            "tags": []
          },
          "execution_count": 13
        }
      ]
    },
    {
      "cell_type": "code",
      "metadata": {
        "colab": {
          "base_uri": "https://localhost:8080/"
        },
        "id": "uyCgcotFf__7",
        "outputId": "3962df4d-0edb-4e73-9abb-c4a4d8a54879"
      },
      "source": [
        "x_test.info()"
      ],
      "execution_count": null,
      "outputs": [
        {
          "output_type": "stream",
          "text": [
            "<class 'pandas.core.frame.DataFrame'>\n",
            "Int64Index: 40 entries, 235 to 384\n",
            "Data columns (total 3 columns):\n",
            " #   Column           Non-Null Count  Dtype\n",
            "---  ------           --------------  -----\n",
            " 0   Gender           40 non-null     int64\n",
            " 1   Age              40 non-null     int64\n",
            " 2   EstimatedSalary  40 non-null     int64\n",
            "dtypes: int64(3)\n",
            "memory usage: 1.2 KB\n"
          ],
          "name": "stdout"
        }
      ]
    },
    {
      "cell_type": "markdown",
      "metadata": {
        "id": "lWYvAPlFgDny"
      },
      "source": [
        "**STEP 10: SVM ALGORITHMS**"
      ]
    },
    {
      "cell_type": "code",
      "metadata": {
        "colab": {
          "base_uri": "https://localhost:8080/"
        },
        "id": "9o0M2wOagEt8",
        "outputId": "c30c21fc-a04a-4baa-d782-e3edb4a41c16"
      },
      "source": [
        "from sklearn.svm import SVC\n",
        "\n",
        "svm = SVC(kernel = 'linear')\n",
        "svm.fit(x_train, y_train)\n",
        "\n",
        "y_pred = svm.predict(x_test)\n",
        "y_pred"
      ],
      "execution_count": null,
      "outputs": [
        {
          "output_type": "execute_result",
          "data": {
            "text/plain": [
              "array([1, 1, 1, 0, 0, 1, 0, 1, 0, 0, 0, 1, 0, 0, 0, 0, 0, 1, 0, 0, 1, 1,\n",
              "       0, 1, 0, 1, 0, 0, 0, 1, 0, 0, 1, 1, 0, 0, 0, 0, 0, 1])"
            ]
          },
          "metadata": {
            "tags": []
          },
          "execution_count": 15
        }
      ]
    },
    {
      "cell_type": "markdown",
      "metadata": {
        "id": "ac8z7o72gJ7T"
      },
      "source": [
        "**STEP 11: Check this prediction with original data**"
      ]
    },
    {
      "cell_type": "code",
      "metadata": {
        "colab": {
          "base_uri": "https://localhost:8080/"
        },
        "id": "xH8TyI1PgQz6",
        "outputId": "ae60abc7-73e6-4887-a78f-ac8e06c1eb9c"
      },
      "source": [
        "y_test"
      ],
      "execution_count": null,
      "outputs": [
        {
          "output_type": "execute_result",
          "data": {
            "text/plain": [
              "235    1\n",
              "379    1\n",
              "255    1\n",
              "342    0\n",
              "305    0\n",
              "343    1\n",
              "34     0\n",
              "299    1\n",
              "143    0\n",
              "105    0\n",
              "390    1\n",
              "355    1\n",
              "276    0\n",
              "380    0\n",
              "392    1\n",
              "5      0\n",
              "49     0\n",
              "253    1\n",
              "359    0\n",
              "67     0\n",
              "291    1\n",
              "254    0\n",
              "387    0\n",
              "234    0\n",
              "333    0\n",
              "354    1\n",
              "12     0\n",
              "96     0\n",
              "10     0\n",
              "352    1\n",
              "106    0\n",
              "398    0\n",
              "204    1\n",
              "316    1\n",
              "38     0\n",
              "162    0\n",
              "205    0\n",
              "283    1\n",
              "80     0\n",
              "384    1\n",
              "Name: Purchased, dtype: int64"
            ]
          },
          "metadata": {
            "tags": []
          },
          "execution_count": 16
        }
      ]
    },
    {
      "cell_type": "markdown",
      "metadata": {
        "id": "P-XUq30sgXWq"
      },
      "source": [
        "**STEP 12: Repeat the algorithms by Changing Kernels**"
      ]
    },
    {
      "cell_type": "code",
      "metadata": {
        "colab": {
          "base_uri": "https://localhost:8080/"
        },
        "id": "jivh8cefgXBi",
        "outputId": "33fb6687-16e9-4552-d579-80549006d4fb"
      },
      "source": [
        "from sklearn.svm import SVC\n",
        "\n",
        "svm = SVC(kernel = 'rbf')\n",
        "svm.fit(x_train, y_train)\n",
        "\n",
        "y_pred = svm.predict(x_test)\n",
        "y_pred"
      ],
      "execution_count": null,
      "outputs": [
        {
          "output_type": "execute_result",
          "data": {
            "text/plain": [
              "array([0, 0, 0, 0, 0, 0, 0, 1, 0, 0, 0, 0, 0, 0, 0, 0, 0, 1, 0, 0, 0, 0,\n",
              "       0, 1, 0, 0, 0, 0, 0, 0, 0, 0, 0, 1, 0, 0, 0, 0, 0, 0])"
            ]
          },
          "metadata": {
            "tags": []
          },
          "execution_count": 17
        }
      ]
    },
    {
      "cell_type": "markdown",
      "metadata": {
        "id": "YagJ7Q7fgh5r"
      },
      "source": [
        "**STEP 13: Check underfitting or Overfitting with K-fold cross validation**"
      ]
    },
    {
      "cell_type": "code",
      "metadata": {
        "colab": {
          "background_save": true,
          "base_uri": "https://localhost:8080/"
        },
        "id": "RdzQN60pglK7",
        "outputId": "eefcdf87-48dd-4838-a086-fff940de841f"
      },
      "source": [
        "from sklearn import model_selection\n",
        "\n",
        "kfold = model_selection.KFold(n_splits = 10, random_state = 31)\n",
        "\n",
        "model = SVC(kernel = 'linear')\n",
        "results = model_selection.cross_val_score(model,x_train, y_train, cv =kfold)\n",
        "results"
      ],
      "execution_count": null,
      "outputs": [
        {
          "output_type": "stream",
          "text": [
            "/usr/local/lib/python3.7/dist-packages/sklearn/model_selection/_split.py:296: FutureWarning: Setting a random_state has no effect since shuffle is False. This will raise an error in 0.24. You should leave random_state to its default (None), or set shuffle=True.\n",
            "  FutureWarning\n"
          ],
          "name": "stderr"
        }
      ]
    }
  ]
}